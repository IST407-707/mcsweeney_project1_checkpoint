{
 "cells": [
  {
   "cell_type": "code",
   "execution_count": 15,
   "id": "3a16f323-e78d-4dc7-845d-dc2412480b32",
   "metadata": {
    "tags": []
   },
   "outputs": [],
   "source": [
    "# required libraries\n",
    "from urllib.request import urlopen\n",
    "from bs4 import BeautifulSoup\n",
    "import pandas as pd\n",
    "import time\n",
    "import random\n",
    "import pickle"
   ]
  },
  {
   "cell_type": "code",
   "execution_count": 16,
   "id": "898c4d52-f5e4-4878-a739-a78777aa6f10",
   "metadata": {
    "tags": []
   },
   "outputs": [],
   "source": [
    "base_url = \"https://www.basketball-reference.com\"\n",
    "player_url = base_url+\"/players/j/jamesle01.html\"\n",
    "html_player = urlopen(player_url)\n",
    "soup = BeautifulSoup(html_player, features=\"lxml\")\n",
    "adv_table = soup.find('table', attrs={'id':'advanced'})\n",
    "teams = adv_table.tbody.findAll(\"tr\")"
   ]
  },
  {
   "cell_type": "code",
   "execution_count": 18,
   "id": "6605710e-e43d-4f83-a73b-a90e01830366",
   "metadata": {
    "tags": []
   },
   "outputs": [
    {
     "name": "stdout",
     "output_type": "stream",
     "text": [
      "2003-04\n",
      "\n",
      "2004-05\n",
      "\n",
      "2005-06\n",
      "\n",
      "2006-07\n",
      "\n",
      "2007-08\n",
      "\n",
      "2008-09\n",
      "\n",
      "2009-10\n",
      "\n",
      "2010-11\n",
      "\n",
      "2011-12\n",
      "\n",
      "2012-13\n",
      "\n",
      "2013-14\n",
      "\n",
      "2014-15\n",
      "\n",
      "2015-16\n",
      "\n",
      "2016-17\n",
      "\n",
      "2017-18\n",
      "\n",
      "2018-19\n",
      "\n",
      "2019-20\n",
      "\n",
      "2020-21\n",
      "\n",
      "2021-22\n",
      "\n",
      "2022-23\n",
      "\n",
      "2023-24\n",
      "\n"
     ]
    }
   ],
   "source": [
    "for team in teams:\n",
    "    print(team.th.a.string)\n",
    "    print()"
   ]
  },
  {
   "cell_type": "code",
   "execution_count": null,
   "id": "1ef899b1-ee88-4457-8c69-4b87eb531153",
   "metadata": {},
   "outputs": [],
   "source": []
  }
 ],
 "metadata": {
  "kernelspec": {
   "display_name": "Python 3 (ipykernel)",
   "language": "python",
   "name": "python3"
  },
  "language_info": {
   "codemirror_mode": {
    "name": "ipython",
    "version": 3
   },
   "file_extension": ".py",
   "mimetype": "text/x-python",
   "name": "python",
   "nbconvert_exporter": "python",
   "pygments_lexer": "ipython3",
   "version": "3.11.4"
  }
 },
 "nbformat": 4,
 "nbformat_minor": 5
}
